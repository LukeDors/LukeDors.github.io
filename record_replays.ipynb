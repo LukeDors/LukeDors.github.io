{
 "cells": [
  {
   "cell_type": "code",
   "execution_count": 5,
   "metadata": {},
   "outputs": [
    {
     "ename": "KeyboardInterrupt",
     "evalue": "",
     "output_type": "error",
     "traceback": [
      "\u001b[1;31m---------------------------------------------------------------------------\u001b[0m",
      "\u001b[1;31mKeyboardInterrupt\u001b[0m                         Traceback (most recent call last)",
      "Cell \u001b[1;32mIn[5], line 22\u001b[0m\n\u001b[0;32m     19\u001b[0m     \u001b[39mreturn\u001b[39;00m \u001b[39mFalse\u001b[39;00m\n\u001b[0;32m     21\u001b[0m \u001b[39mfor\u001b[39;00m bat_file \u001b[39min\u001b[39;00m bat_files:\n\u001b[1;32m---> 22\u001b[0m     time\u001b[39m.\u001b[39;49msleep(\u001b[39m10\u001b[39;49m)\n\u001b[0;32m     23\u001b[0m     run_bat(os\u001b[39m.\u001b[39mpath\u001b[39m.\u001b[39mjoin(path, bat_file))\n\u001b[0;32m     24\u001b[0m     \u001b[39mwhile\u001b[39;00m is_lol_running():\n",
      "\u001b[1;31mKeyboardInterrupt\u001b[0m: "
     ]
    }
   ],
   "source": [
    "import os\n",
    "import subprocess\n",
    "import psutil\n",
    "import time\n",
    "\n",
    "path = r\"C:\\Users\\Luke\\Videos\\blue mid\"\n",
    "bat_files = [f for f in os.listdir(path)]\n",
    "\n",
    "def run_bat(file_path):\n",
    "    subprocess.run([file_path], shell=True)\n",
    "\n",
    "# for bat_file in bat_files:\n",
    "#     run_bat(os.path.join(path, bat_file))\n",
    "\n",
    "def is_lol_running():\n",
    "    for process in psutil.process_iter(attrs=['pid', 'name']):\n",
    "        if \"League of Legends.exe\" in process.info['name']:\n",
    "            return True\n",
    "    return False\n",
    "\n",
    "for bat_file in bat_files:\n",
    "    time.sleep(10)\n",
    "    run_bat(os.path.join(path, bat_file))\n",
    "    while is_lol_running():\n",
    "        pass\n",
    "\n",
    "print(\"All .bat files executed.\")\n",
    "\n",
    "\n",
    "\n"
   ]
  }
 ],
 "metadata": {
  "kernelspec": {
   "display_name": "Python 3",
   "language": "python",
   "name": "python3"
  },
  "language_info": {
   "codemirror_mode": {
    "name": "ipython",
    "version": 3
   },
   "file_extension": ".py",
   "mimetype": "text/x-python",
   "name": "python",
   "nbconvert_exporter": "python",
   "pygments_lexer": "ipython3",
   "version": "3.9.0"
  },
  "orig_nbformat": 4
 },
 "nbformat": 4,
 "nbformat_minor": 2
}
